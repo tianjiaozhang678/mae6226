{
 "cells": [
  {
   "cell_type": "code",
   "execution_count": 114,
   "metadata": {
    "collapsed": true
   },
   "outputs": [],
   "source": [
    "import math\n",
    "import numpy\n",
    "from scipy import integrate\n",
    "from matplotlib import pyplot\n",
    "%matplotlib inline"
   ]
  },
  {
   "cell_type": "code",
   "execution_count": 115,
   "metadata": {
    "collapsed": true
   },
   "outputs": [],
   "source": [
    "x_MainFoil, y_MainFoil = numpy.loadtxt('NACA23012_MainFoil.csv', delimiter=',', unpack=True)\n",
    "x_FlapFoil, y_FlapFoil = numpy.loadtxt('NACA23012_FlapFoil.csv', delimiter=',', unpack=True)"
   ]
  },
  {
   "cell_type": "code",
   "execution_count": 116,
   "metadata": {},
   "outputs": [
    {
     "data": {
      "text/plain": [
       "(-0.5, 0.5)"
      ]
     },
     "execution_count": 116,
     "metadata": {},
     "output_type": "execute_result"
    },
    {
     "data": {
      "image/png": "[encoded data removed]",
      "text/plain": [
       "<matplotlib.figure.Figure at 0x7f9d23d247f0>"
      ]
     },
     "metadata": {},
     "output_type": "display_data"
    }
   ],
   "source": [
    "width = 10\n",
    "pyplot.figure(figsize=(width, width))\n",
    "pyplot.grid()\n",
    "pyplot.xlabel('x', fontsize=16)\n",
    "pyplot.ylabel('y', fontsize=16)\n",
    "pyplot.plot(x_MainFoil, y_MainFoil, x_FlapFoil, y_FlapFoil, color='k', linestyle='-', linewidth=2)\n",
    "pyplot.axis('scaled', adjustable='box')\n",
    "pyplot.xlim(-0.1, 1.25)\n",
    "pyplot.ylim(-0.5, 0.5)"
   ]
  },
  {
   "cell_type": "code",
   "execution_count": 117,
   "metadata": {
    "collapsed": true
   },
   "outputs": [],
   "source": [
    "def get_deflection_angle(X, Y, xd, yd, Bi):\n",
    "    X = (X - xd) * numpy.cos(Bi) + (Y - yd) * numpy.sin(Bi) + 1.03\n",
    "    Y = - (X - xd) * numpy.sin(Bi) + (Y - yd) * numpy.cos(Bi) - 0.054\n",
    "    return X, Y"
   ]
  },
  {
   "cell_type": "code",
   "execution_count": 118,
   "metadata": {
    "collapsed": true
   },
   "outputs": [],
   "source": [
    "xd = 1.03\n",
    "yd = -0.054\n",
    "Bi = numpy.radians(-10)\n",
    "X_FlapFoil, Y_FlapFoil = get_deflection_angle(x_FlapFoil, y_FlapFoil, xd, yd, Bi)"
   ]
  },
  {
   "cell_type": "code",
   "execution_count": 119,
   "metadata": {},
   "outputs": [
    {
     "data": {
      "text/plain": [
       "(-0.5, 0.5)"
      ]
     },
     "execution_count": 119,
     "metadata": {},
     "output_type": "execute_result"
    },
    {
     "data": {
      "image/png": "[encoded data removed]",
      "text/plain": [
       "<matplotlib.figure.Figure at 0x7f9d238c57b8>"
      ]
     },
     "metadata": {},
     "output_type": "display_data"
    }
   ],
   "source": [
    "width = 10\n",
    "pyplot.figure(figsize=(width, width))\n",
    "pyplot.grid()\n",
    "pyplot.xlabel('x', fontsize=16)\n",
    "pyplot.ylabel('y', fontsize=16)\n",
    "pyplot.plot(x_MainFoil, y_MainFoil, X_FlapFoil, Y_FlapFoil, color='k', linestyle='-', linewidth=2)\n",
    "pyplot.axis('scaled', adjustable='box')\n",
    "pyplot.xlim(-0.1, 1.25)\n",
    "pyplot.ylim(-0.5, 0.5)"
   ]
  },
  {
   "cell_type": "markdown",
   "metadata": {},
   "source": [
    "Class"
   ]
  },
  {
   "cell_type": "code",
   "execution_count": 120,
   "metadata": {
    "collapsed": true
   },
   "outputs": [],
   "source": [
    "class Panel:\n",
    "    def __init__(self, xa, ya, xb, yb):\n",
    "        self.xa, self.ya = xa, ya\n",
    "        self.xb, self.yb = xb, yb\n",
    "        \n",
    "        self.xc, self.yc = (xa + xb) / 2, (ya + yb) / 2  \n",
    "        self.length = math.sqrt((xb - xa)**2 + (yb - ya)**2)  \n",
    "        \n",
    "        if xb - xa <= 0.:\n",
    "            self.beta = math.acos((yb - ya) / self.length)\n",
    "        elif xb - xa > 0.:\n",
    "            self.beta = math.pi + math.acos(-(yb - ya) / self.length)\n",
    "        \n",
    "        if self.beta <= numpy.pi:\n",
    "            self.loc = 'upper'  \n",
    "        else:\n",
    "            self.loc = 'lower'  \n",
    " \n",
    "        self.sigma = 0.0  \n",
    "        self.vt = 0.0  \n",
    "        self.cp = 0.0"
   ]
  },
  {
   "cell_type": "code",
   "execution_count": 121,
   "metadata": {
    "collapsed": true
   },
   "outputs": [],
   "source": [
    "x_ends = x_MainFoil\n",
    "y_ends = y_MainFoil\n",
    "\n",
    "N = 150\n",
    "panels = numpy.empty(N, dtype=object)\n",
    "for i in range(N):\n",
    "    panels[i] = Panel(x_ends[i], y_ends[i], x_ends[i + 1], y_ends[i + 1])"
   ]
  },
  {
   "cell_type": "code",
   "execution_count": 122,
   "metadata": {
    "collapsed": true
   },
   "outputs": [],
   "source": [
    "x_ends2 = X_FlapFoil\n",
    "y_ends2 = Y_FlapFoil\n",
    "\n",
    "N = 150\n",
    "panels_fp = numpy.empty(N, dtype=object)\n",
    "for i in range(N):\n",
    "    panels_fp[i] = Panel(x_ends2[i], y_ends2[i], x_ends2[i + 1], y_ends2[i + 1])"
   ]
  },
  {
   "cell_type": "code",
   "execution_count": 123,
   "metadata": {
    "collapsed": true
   },
   "outputs": [],
   "source": [
    "class Freestream:\n",
    "    def __init__(self, u_inf=1.0, alpha=0.0):\n",
    "        self.u_inf = u_inf\n",
    "        self.alpha = numpy.radians(alpha)"
   ]
  },
  {
   "cell_type": "code",
   "execution_count": 124,
   "metadata": {
    "collapsed": true
   },
   "outputs": [],
   "source": [
    "def integral(x, y, panel, dxdz, dydz):\n",
    "    def integrand(s):\n",
    "        return (((x - (panel.xa - math.sin(panel.beta) * s)) * dxdz +\n",
    "                (y - (panel.ya + math.cos(panel.beta) * s)) * dydz) /\n",
    "                ((x - (panel.xa - math.sin(panel.beta) * s))**2 +\n",
    "                (y - (panel.ya + math.cos(panel.beta) * s))**2) )\n",
    "    return integrate.quad(integrand, 0.0, panel.length)[0]"
   ]
  },
  {
   "cell_type": "code",
   "execution_count": 125,
   "metadata": {
    "collapsed": true
   },
   "outputs": [],
   "source": [
    "def source_contribution_normal(panels, panels_fp):\n",
    "    A = numpy.empty((panels.size + panels_fp.size, panels.size + panels_fp.size), dtype=float)\n",
    "    numpy.fill_diagonal(A, 0.5)\n",
    "    for i, panel_i in enumerate(panels):\n",
    "        for j, panel_j in enumerate(panels):\n",
    "            if i != j:\n",
    "                A[i, j] = 0.5 / numpy.pi * integral(panel_i.xc, panel_i.yc, \n",
    "                                                    panel_j,\n",
    "                                                    numpy.cos(panel_i.beta),\n",
    "                                                    numpy.sin(panel_i.beta))\n",
    "    \n",
    "    for i, panel_i in enumerate(panels):\n",
    "        for j, panel_j in enumerate(panels_fp):\n",
    "            A[i, 150 + j] = 0.5 / numpy.pi * integral(panel_i.xc, panel_i.yc, \n",
    "                                                    panel_j,\n",
    "                                                    numpy.cos(panel_i.beta),\n",
    "                                                    numpy.sin(panel_i.beta))\n",
    "    \n",
    "    for i, panel_i in enumerate(panels_fp):\n",
    "        for j, panel_j in enumerate(panels):\n",
    "            A[i + 150, j] = 0.5 / numpy.pi * integral(panel_i.xc, panel_i.yc, \n",
    "                                                    panel_j,\n",
    "                                                    numpy.cos(panel_i.beta),\n",
    "                                                    numpy.sin(panel_i.beta))\n",
    "    \n",
    "    for i, panel_i in enumerate(panels_fp):\n",
    "        for j, panel_j in enumerate(panels_fp):\n",
    "            if i != j:\n",
    "                A[i + 150, j + 150] = 0.5 / numpy.pi * integral(panel_i.xc, panel_i.yc, \n",
    "                                                    panel_j,\n",
    "                                                    numpy.cos(panel_i.beta),\n",
    "                                                    numpy.sin(panel_i.beta))\n",
    "    \n",
    "    return A"
   ]
  },
  {
   "cell_type": "code",
   "execution_count": 126,
   "metadata": {
    "collapsed": true
   },
   "outputs": [],
   "source": [
    "def vortex_contribution_normal(panels, panels_fp):\n",
    "    A = numpy.empty((panels.size + panels_fp.size, panels.size + panels_fp.size), dtype=float)\n",
    "    numpy.fill_diagonal(A, 0.0)\n",
    "    for i, panel_i in enumerate(panels):\n",
    "        for j, panel_j in enumerate(panels):\n",
    "            if i != j:\n",
    "                A[i, j] = -0.5 / numpy.pi * integral(panel_i.xc, panel_i.yc, \n",
    "                                                     panel_j,\n",
    "                                                     numpy.sin(panel_i.beta),\n",
    "                                                     -numpy.cos(panel_i.beta))\n",
    "    \n",
    "    for i, panel_i in enumerate(panels):\n",
    "        for j, panel_j in enumerate(panels_fp):\n",
    "            A[i, 150 + j] = -0.5 / numpy.pi * integral(panel_i.xc, panel_i.yc, \n",
    "                                                     panel_j,\n",
    "                                                     numpy.sin(panel_i.beta),\n",
    "                                                     -numpy.cos(panel_i.beta))\n",
    "    \n",
    "    for i, panel_i in enumerate(panels_fp):\n",
    "        for j, panel_j in enumerate(panels):\n",
    "            A[i + 150, j] = -0.5 / numpy.pi * integral(panel_i.xc, panel_i.yc, \n",
    "                                                     panel_j,\n",
    "                                                     numpy.sin(panel_i.beta),\n",
    "                                                     -numpy.cos(panel_i.beta))\n",
    "    \n",
    "    for i, panel_i in enumerate(panels_fp):\n",
    "        for j, panel_j in enumerate(panels_fp):\n",
    "            if i != j:\n",
    "                A[i + 150, j + 150] = -0.5 / numpy.pi * integral(panel_i.xc, panel_i.yc, \n",
    "                                                     panel_j,\n",
    "                                                     numpy.sin(panel_i.beta),\n",
    "                                                     -numpy.cos(panel_i.beta))\n",
    "    return A"
   ]
  },
  {
   "cell_type": "code",
   "execution_count": 127,
   "metadata": {
    "collapsed": true
   },
   "outputs": [],
   "source": [
    "def build_b_matrix(panels, panels_fp, freestream):\n",
    "    A = numpy.empty(panels.size + panels_fp.size, dtype=float)\n",
    "    for i, panel in enumerate(panels):\n",
    "        A[i] = -freestream.u_inf * numpy.cos(freestream.alpha - panel.beta)\n",
    "    for j, panel in enumerate(panels_fp):\n",
    "        A[150 + j] = -freestream.u_inf * numpy.cos(freestream.alpha - panel.beta)\n",
    "    return A"
   ]
  },
  {
   "cell_type": "code",
   "execution_count": 128,
   "metadata": {
    "collapsed": true
   },
   "outputs": [],
   "source": [
    "def build_B_matrix(B_vortex):\n",
    "    A = numpy.empty((A_source.shape[0], 2), dtype=float)\n",
    "    A[:-100, 0] = numpy.sum(B_vortex[:-100, :-100], axis=1)\n",
    "    A[:-100, 1] = numpy.sum(B_vortex[:-100, 100:], axis=1)\n",
    "    A[100:, 0] = numpy.sum(B_vortex[100:, :-100], axis=1)\n",
    "    A[100:, 1] = numpy.sum(B_vortex[100:, 100:], axis=1)\n",
    "    return A"
   ]
  },
  {
   "cell_type": "code",
   "execution_count": 129,
   "metadata": {
    "collapsed": true
   },
   "outputs": [],
   "source": [
    "def build_singularity_matrix(A_source, B_vortex, B_B):\n",
    "    A = numpy.empty((A_source.shape[0] + 2, A_source.shape[1] + 2), dtype=float)\n",
    "    A[:-2, :-2] = A_source\n",
    "    A[:-2, 300:] = B_B\n",
    "    A[300:, :] = kutta_condition(A_source, B_vortex)\n",
    "    return A"
   ]
  },
  {
   "cell_type": "code",
   "execution_count": 130,
   "metadata": {
    "collapsed": true
   },
   "outputs": [],
   "source": [
    "def build_freestream_rhs(panels, panels_fp, freestream, b_b):\n",
    "    b = numpy.empty((panels.size + panels_fp.size + 2), dtype=float)\n",
    "    b[:-2] = b_b\n",
    "    b[-2] = -freestream.u_inf * (numpy.sin(freestream.alpha - panels[0].beta) +\n",
    "                                 numpy.sin(freestream.alpha - panels[-1].beta) )\n",
    "    b[-1] = -freestream.u_inf * (numpy.sin(freestream.alpha - panels_fp[0].beta) +\n",
    "                                 numpy.sin(freestream.alpha - panels_fp[-1].beta) )\n",
    "    return b"
   ]
  },
  {
   "cell_type": "code",
   "execution_count": 131,
   "metadata": {
    "collapsed": true
   },
   "outputs": [],
   "source": [
    "def build_tangential_velocity_matrix(panels, panels_fp, A_source, B_vortex):\n",
    "    A = numpy.empty((panels.size + panels_fp.size, panels.size + panels_fp.size + 2), dtype=float)\n",
    "    A[:, :-2] = B_vortex\n",
    "    A[:, -2] = -numpy.sum(A_source[:, :-150], axis=1)\n",
    "    A[:, -1] = -numpy.sum(A_source[:, 150:], axis=1)\n",
    "    return A"
   ]
  },
  {
   "cell_type": "code",
   "execution_count": 132,
   "metadata": {
    "collapsed": true
   },
   "outputs": [],
   "source": [
    "A_source = source_contribution_normal(panels, panels_fp)\n",
    "B_vortex = vortex_contribution_normal(panels, panels_fp)"
   ]
  },
  {
   "cell_type": "code",
   "execution_count": 133,
   "metadata": {
    "collapsed": true
   },
   "outputs": [],
   "source": [
    "def kutta_condition(A_source, B_vortex):\n",
    "    b = numpy.empty((2, A_source.shape[1] + 2), dtype=float)\n",
    "    b[0, :-2] = B_vortex[0, :] + B_vortex[149, :]\n",
    "    b[1, :-2] = B_vortex[150, :] + B_vortex[-1, :]\n",
    "    b[0, -2] = - numpy.sum(A_source[0, :-150] + A_source[149, :-150])\n",
    "    b[0, -1] = - numpy.sum(A_source[0, 150:] + A_source[149, 150:])\n",
    "    b[1, -2] = - numpy.sum(A_source[150, :-150] + A_source[-1, :-150])\n",
    "    b[1, -1] = - numpy.sum(A_source[150, 150:] + A_source[-1, 150:])\n",
    "    return b"
   ]
  },
  {
   "cell_type": "code",
   "execution_count": 134,
   "metadata": {
    "collapsed": true
   },
   "outputs": [],
   "source": [
    "B_B = build_B_matrix(B_vortex)"
   ]
  },
  {
   "cell_type": "code",
   "execution_count": 135,
   "metadata": {
    "collapsed": true
   },
   "outputs": [],
   "source": [
    "A = build_singularity_matrix(A_source, B_vortex, B_B)"
   ]
  },
  {
   "cell_type": "code",
   "execution_count": 136,
   "metadata": {
    "collapsed": true
   },
   "outputs": [],
   "source": [
    "def build_freestream_tangential_velocity_rhs(panels, panels_fp, freestream):\n",
    "    b = numpy.empty(panels.size + panels_fp.size, dtype=float)\n",
    "    for i, panel in enumerate(panels):\n",
    "        b[i] = freestream.u_inf * numpy.sin(freestream.alpha - panel.beta)\n",
    "    for j, panel in enumerate(panels_fp):\n",
    "        b[150 + j] = freestream.u_inf * numpy.sin(freestream.alpha - panel.beta)\n",
    "    return b"
   ]
  },
  {
   "cell_type": "code",
   "execution_count": 137,
   "metadata": {
    "collapsed": true
   },
   "outputs": [],
   "source": [
    "def lift(alpha):\n",
    "    u_inf = 1.0\n",
    "    freestream = Freestream(u_inf, alpha)\n",
    "    b_b = build_b_matrix(panels, panels_fp, freestream)\n",
    "    A = build_singularity_matrix(A_source, B_vortex, B_B)\n",
    "    b = build_freestream_rhs(panels, panels_fp, freestream, b_b)\n",
    "    strengths = numpy.linalg.solve(A, b)\n",
    "    for i, panel in enumerate(panels):\n",
    "        panel.sigma = strengths[i]\n",
    "    for j, panel in enumerate(panels_fp):\n",
    "        panel.sigma = strengths[150 + j]\n",
    "    gamma_main = strengths[-2]\n",
    "    gamma_flap = strengths[-1]\n",
    "    A_vt = build_tangential_velocity_matrix(panels, panels_fp, A_source, B_vortex)\n",
    "    b_vt = build_freestream_tangential_velocity_rhs(panels, panels_fp, freestream)\n",
    "    tangential_velocities = numpy.dot(A_vt, strengths) + b_vt\n",
    "    for i, panel in enumerate(panels):\n",
    "        panel.vt = tangential_velocities[i]\n",
    "    for j, panel in enumerate(panels_fp):\n",
    "        panel.vt = tangential_velocities[150 + j]\n",
    "    for i, panel in enumerate(panels):\n",
    "        panel.cp = 1.0 - (tangential_velocities[i] / freestream.u_inf)**2\n",
    "    for j, panel in enumerate(panels_fp):\n",
    "        panel.cp = 1.0 - (tangential_velocities[150 + j] / freestream.u_inf)**2\n",
    "    c = abs(max(panel.xa for panel in panels) -\n",
    "            min(panel.xa for panel in panels))\n",
    "    cl = (gamma_main * sum(panel.length for panel in panels) /\n",
    "          (0.5 * freestream.u_inf * c))\n",
    "    c2 = abs(max(panel.xa for panel in panels_fp) -\n",
    "             min(panel.xa for panel in panels_fp))\n",
    "    cl2 = (gamma_flap * sum(panel.length for panel in panels_fp) /\n",
    "           (0.5 * freestream.u_inf * c2))\n",
    "    L = c * cl + c2 * cl2\n",
    "    return L"
   ]
  },
  {
   "cell_type": "code",
   "execution_count": null,
   "metadata": {
    "collapsed": true
   },
   "outputs": [],
   "source": [
    "m = 1\n",
    "a = -14\n",
    "b = 14\n",
    "alpha = 14\n",
    "\n",
    "while abs(lift(alpha)) > 0.0001 and m < 100:\n",
    "    if lift(alpha) < 0:\n",
    "        a = alpha\n",
    "    elif lift(alpha) > 0:\n",
    "        b = alpha\n",
    "    alpha = (a + b) / 2\n",
    "    m += 1\n",
    "\n",
    "\n",
    "print(alpha)"
   ]
  },
  {
   "cell_type": "markdown",
   "metadata": {},
   "source": [
    "def lift(Bi):\n",
    "    xd = 1.03\n",
    "    yd = -0.054\n",
    "    X_FlapFoil, Y_FlapFoil = get_deflection_angle(x_FlapFoil, y_FlapFoil, xd, yd, Bi)\n",
    "    u_inf = 1.0\n",
    "    freestream = Freestream(u_inf, alpha = 0.0)\n",
    "    b_b = build_b_matrix(panels, panels_fp, freestream)\n",
    "    A = build_singularity_matrix(A_source, B_vortex, B_B)\n",
    "    b = build_freestream_rhs(panels, panels_fp, freestream, b_b)\n",
    "    strengths = numpy.linalg.solve(A, b)\n",
    "    for i, panel in enumerate(panels):\n",
    "        panel.sigma = strengths[i]\n",
    "    for j, panel in enumerate(panels_fp):\n",
    "        panel.sigma = strengths[150 + j]\n",
    "    gamma_main = strengths[-2]\n",
    "    gamma_flap = strengths[-1]\n",
    "    A_vt = build_tangential_velocity_matrix(panels, panels_fp, A_source, B_vortex)\n",
    "    b_vt = build_freestream_tangential_velocity_rhs(panels, panels_fp, freestream)\n",
    "    tangential_velocities = numpy.dot(A_vt, strengths) + b_vt\n",
    "    for i, panel in enumerate(panels):\n",
    "        panel.vt = tangential_velocities[i]\n",
    "    for j, panel in enumerate(panels_fp):\n",
    "        panel.vt = tangential_velocities[150 + j]\n",
    "    for i, panel in enumerate(panels):\n",
    "        panel.cp = 1.0 - (tangential_velocities[i] / freestream.u_inf)**2\n",
    "    for j, panel in enumerate(panels_fp):\n",
    "        panel.cp = 1.0 - (tangential_velocities[150 + j] / freestream.u_inf)**2\n",
    "    c = abs(max(panel.xa for panel in panels) -\n",
    "            min(panel.xa for panel in panels))\n",
    "    cl = (gamma_main * sum(panel.length for panel in panels) /\n",
    "          (0.5 * freestream.u_inf * c))\n",
    "    c2 = abs(max(panel.xa for panel in panels_fp) -\n",
    "             min(panel.xa for panel in panels_fp))\n",
    "    cl2 = (gamma_flap * sum(panel.length for panel in panels_fp) /\n",
    "           (0.5 * freestream.u_inf * c2))\n",
    "    L = c * cl + c2 * cl2\n",
    "    return L"
   ]
  },
  {
   "cell_type": "code",
   "execution_count": 138,
   "metadata": {},
   "outputs": [
    {
     "name": "stdout",
     "output_type": "stream",
     "text": [
      "-0.0011842910451\n"
     ]
    }
   ],
   "source": [
    "print(lift(alpha = 0.0))"
   ]
  },
  {
   "cell_type": "code",
   "execution_count": null,
   "metadata": {
    "collapsed": true
   },
   "outputs": [],
   "source": []
  }
 ],
 "metadata": {
  "kernelspec": {
   "display_name": "Python 3",
   "language": "python",
   "name": "python3"
  },
  "language_info": {
   "codemirror_mode": {
    "name": "ipython",
    "version": 3
   },
   "file_extension": ".py",
   "mimetype": "text/x-python",
   "name": "python",
   "nbconvert_exporter": "python",
   "pygments_lexer": "ipython3",
   "version": "3.6.2"
  }
 },
 "nbformat": 4,
 "nbformat_minor": 2
}
