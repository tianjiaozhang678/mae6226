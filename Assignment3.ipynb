{
 "cells": [
  {
   "cell_type": "code",
   "execution_count": 2,
   "metadata": {
    "collapsed": true
   },
   "outputs": [],
   "source": [
    "import math\n",
    "import numpy\n",
    "from scipy import integrate\n",
    "from matplotlib import pyplot\n",
    "%matplotlib inline"
   ]
  },
  {
   "cell_type": "code",
   "execution_count": 5,
   "metadata": {},
   "outputs": [],
   "source": [
    "x_MainFoil, y_MainFoil = numpy.loadtxt('MainFoil_N=100.csv', delimiter=',', unpack=True)\n",
    "x_FlapFoil, y_FlapFoil = numpy.loadtxt('FlapFoil_N=100.csv', delimiter=',', unpack=True)"
   ]
  },
  {
   "cell_type": "code",
   "execution_count": 6,
   "metadata": {},
   "outputs": [
    {
     "data": {
      "text/plain": [
       "(-0.7, 0.5)"
      ]
     },
     "execution_count": 6,
     "metadata": {},
     "output_type": "execute_result"
    },
    {
     "data": {
      "image/png": "[encoded data removed]",
      "text/plain": [
       "<matplotlib.figure.Figure at 0x7f1c6298b4e0>"
      ]
     },
     "metadata": {},
     "output_type": "display_data"
    }
   ],
   "source": [
    "width = 10\n",
    "pyplot.figure(figsize=(width, width))\n",
    "pyplot.grid()\n",
    "pyplot.xlabel('x', fontsize=16)\n",
    "pyplot.ylabel('y', fontsize=16)\n",
    "pyplot.plot(x_MainFoil, y_MainFoil, x_FlapFoil, y_FlapFoil, color='k', linestyle='-', linewidth=2)\n",
    "pyplot.axis('scaled', adjustable='box')\n",
    "pyplot.xlim(-0.1, 1.4)\n",
    "pyplot.ylim(-0.7, 0.5)"
   ]
  },
  {
   "cell_type": "code",
   "execution_count": 18,
   "metadata": {
    "collapsed": true
   },
   "outputs": [],
   "source": [
    "class Panel:\n",
    "    def __init__(self, xa, ya, xb, yb):\n",
    "        self.xa, self.ya = xa, ya\n",
    "        self.xb, self.yb = xb, yb\n",
    "        \n",
    "        self.xc, self.yc = (xa + xb) / 2, (ya + yb) / 2  \n",
    "        self.length = math.sqrt((xb - xa)**2 + (yb - ya)**2)  \n",
    "        \n",
    "        if xb - xa <= 0.:\n",
    "            self.beta = math.acos((yb - ya) / self.length)\n",
    "        elif xb - xa > 0.:\n",
    "            self.beta = math.pi + math.acos(-(yb - ya) / self.length)\n",
    "        \n",
    "        self.sigma = 0.0  \n",
    "        self.vt = 0.0  \n",
    "        self.cp = 0.0 "
   ]
  },
  {
   "cell_type": "code",
   "execution_count": 25,
   "metadata": {},
   "outputs": [],
   "source": [
    "x_ends = x_MainFoil\n",
    "y_ends = y_MainFoil\n",
    "\n",
    "N = 100\n",
    "panels = numpy.empty(N, dtype=object)\n",
    "for i in range(N):\n",
    "    panels[i] = Panel(x_ends[i], y_ends[i], x_ends[i + 1], y_ends[i + 1])"
   ]
  },
  {
   "cell_type": "code",
   "execution_count": 7,
   "metadata": {
    "collapsed": true
   },
   "outputs": [],
   "source": [
    "class Freestream:\n",
    "    def __init__(self, u_inf=1.0, alpha=0.0):\n",
    "        self.u_inf = u_inf\n",
    "        self.alpha = numpy.radians(alpha)"
   ]
  },
  {
   "cell_type": "code",
   "execution_count": 8,
   "metadata": {
    "collapsed": true
   },
   "outputs": [],
   "source": [
    "u_inf = 1.0                            \n",
    "alpha = 0.0                            \n",
    "freestream = Freestream(u_inf, alpha)  "
   ]
  },
  {
   "cell_type": "code",
   "execution_count": 9,
   "metadata": {
    "collapsed": true
   },
   "outputs": [],
   "source": [
    "def integral(x, y, panel, dxdz, dydz):\n",
    "    def integrand(s):\n",
    "        return (((x - (panel.xa - math.sin(panel.beta) * s)) * dxdz +\n",
    "                 (y - (panel.ya + math.cos(panel.beta) * s)) * dydz) /\n",
    "                ((x - (panel.xa - math.sin(panel.beta) * s))**2 +\n",
    "                 (y - (panel.ya + math.cos(panel.beta) * s))**2) )\n",
    "    return integrate.quad(integrand, 0.0, panel.length)[0]"
   ]
  },
  {
   "cell_type": "code",
   "execution_count": 10,
   "metadata": {
    "collapsed": true
   },
   "outputs": [],
   "source": [
    "def build_matrix(panels):\n",
    "    N = len(panels)\n",
    "    A = numpy.empty((N, N), dtype=float)\n",
    "    numpy.fill_diagonal(A, 0.5)\n",
    "    \n",
    "    for i, p_i in enumerate(panels):\n",
    "        for j, p_j in enumerate(panels):\n",
    "            if i != j:\n",
    "                A[i, j] = 0.5 / math.pi * integral(p_i.xc, p_i.yc, p_j,\n",
    "                                                   math.cos(p_i.beta),\n",
    "                                                   math.sin(p_i.beta))\n",
    "    \n",
    "    return A\n",
    "\n",
    "def build_rhs(panels, freestream):\n",
    "    b = numpy.empty(len(panels), dtype=float)\n",
    "    \n",
    "    for i, panel in enumerate(panels):\n",
    "        b[i] = -freestream.u_inf * math.cos(freestream.alpha - panel.beta)\n",
    "    \n",
    "    return b"
   ]
  },
  {
   "cell_type": "code",
   "execution_count": 26,
   "metadata": {},
   "outputs": [],
   "source": [
    "A = build_matrix(panels)           \n",
    "b = build_rhs(panels, freestream)"
   ]
  },
  {
   "cell_type": "code",
   "execution_count": null,
   "metadata": {
    "collapsed": true
   },
   "outputs": [],
   "source": []
  }
 ],
 "metadata": {
  "kernelspec": {
   "display_name": "Python 3",
   "language": "python",
   "name": "python3"
  },
  "language_info": {
   "codemirror_mode": {
    "name": "ipython",
    "version": 3
   },
   "file_extension": ".py",
   "mimetype": "text/x-python",
   "name": "python",
   "nbconvert_exporter": "python",
   "pygments_lexer": "ipython3",
   "version": "3.6.2"
  }
 },
 "nbformat": 4,
 "nbformat_minor": 2
}
