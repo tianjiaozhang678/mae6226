{
 "cells": [
  {
   "cell_type": "code",
   "execution_count": 1,
   "metadata": {
    "collapsed": true
   },
   "outputs": [],
   "source": [
    "import math\n",
    "import numpy\n",
    "from scipy import integrate\n",
    "from matplotlib import pyplot\n",
    "%matplotlib inline"
   ]
  },
  {
   "cell_type": "code",
   "execution_count": 2,
   "metadata": {
    "collapsed": true
   },
   "outputs": [],
   "source": [
    "x_MainFoil, y_MainFoil = numpy.loadtxt('MainFoil_N=100.csv', delimiter=',', unpack=True)\n",
    "x_FlapFoil, y_FlapFoil = numpy.loadtxt('FlapFoil_N=100.csv', delimiter=',', unpack=True)"
   ]
  },
  {
   "cell_type": "code",
   "execution_count": 3,
   "metadata": {
    "collapsed": true
   },
   "outputs": [],
   "source": [
    "COLUMN = numpy.concatenate((x_MainFoil, x_FlapFoil), axis=0)"
   ]
  },
  {
   "cell_type": "code",
   "execution_count": 4,
   "metadata": {},
   "outputs": [
    {
     "data": {
      "text/plain": [
       "(-0.25, 0.2)"
      ]
     },
     "execution_count": 4,
     "metadata": {},
     "output_type": "execute_result"
    },
    {
     "data": {
      "image/png": "[encoded data removed]",
      "text/plain": [
       "<matplotlib.figure.Figure at 0x7f172efa9668>"
      ]
     },
     "metadata": {},
     "output_type": "display_data"
    }
   ],
   "source": [
    "width = 10\n",
    "pyplot.figure(figsize=(width, width))\n",
    "pyplot.grid()\n",
    "pyplot.xlabel('x', fontsize=16)\n",
    "pyplot.ylabel('y', fontsize=16)\n",
    "pyplot.plot(x_MainFoil, y_MainFoil, x_FlapFoil, y_FlapFoil, color='k', linestyle='-', linewidth=2)\n",
    "pyplot.axis('scaled', adjustable='box')\n",
    "pyplot.xlim(-0.1, 1.4)\n",
    "pyplot.ylim(-0.25, 0.2)"
   ]
  },
  {
   "cell_type": "markdown",
   "metadata": {},
   "source": [
    "MAINFOIL PANEL CLASS"
   ]
  },
  {
   "cell_type": "code",
   "execution_count": 5,
   "metadata": {
    "collapsed": true
   },
   "outputs": [],
   "source": [
    "class Panel:\n",
    "    def __init__(self, xa, ya, xb, yb):\n",
    "        self.xa, self.ya = xa, ya\n",
    "        self.xb, self.yb = xb, yb\n",
    "        \n",
    "        self.xc, self.yc = (xa + xb) / 2, (ya + yb) / 2  \n",
    "        self.length = math.sqrt((xb - xa)**2 + (yb - ya)**2)  \n",
    "        \n",
    "        if xb - xa <= 0.:\n",
    "            self.beta = math.acos((yb - ya) / self.length)\n",
    "        elif xb - xa > 0.:\n",
    "            self.beta = math.pi + math.acos(-(yb - ya) / self.length)\n",
    "        \n",
    "        if self.beta <= numpy.pi:\n",
    "            self.loc = 'upper'  \n",
    "        else:\n",
    "            self.loc = 'lower'  \n",
    " \n",
    "        self.sigma = 0.0  \n",
    "        self.vt = 0.0  \n",
    "        self.cp = 0.0 "
   ]
  },
  {
   "cell_type": "code",
   "execution_count": 6,
   "metadata": {
    "collapsed": true
   },
   "outputs": [],
   "source": [
    "x_ends = x_MainFoil\n",
    "y_ends = y_MainFoil\n",
    "\n",
    "N = 100\n",
    "panels = numpy.empty(N, dtype=object)\n",
    "for i in range(N):\n",
    "    panels[i] = Panel(x_ends[i], y_ends[i], x_ends[i + 1], y_ends[i + 1])"
   ]
  },
  {
   "cell_type": "markdown",
   "metadata": {},
   "source": [
    "FLAPFOIL PANEL CLASS"
   ]
  },
  {
   "cell_type": "code",
   "execution_count": 7,
   "metadata": {
    "collapsed": true
   },
   "outputs": [],
   "source": [
    "x_ends2 = x_FlapFoil\n",
    "y_ends2 = y_FlapFoil\n",
    "\n",
    "N = 100\n",
    "panels_fp = numpy.empty(N, dtype=object)\n",
    "for i in range(N):\n",
    "    panels_fp[i] = Panel(x_ends2[i], y_ends2[i], x_ends2[i + 1], y_ends2[i + 1])"
   ]
  },
  {
   "cell_type": "markdown",
   "metadata": {},
   "source": [
    "FREESTREAM CLASS"
   ]
  },
  {
   "cell_type": "code",
   "execution_count": 8,
   "metadata": {
    "collapsed": true
   },
   "outputs": [],
   "source": [
    "class Freestream:\n",
    "    def __init__(self, u_inf=1.0, alpha=0.0):\n",
    "        self.u_inf = u_inf\n",
    "        self.alpha = numpy.radians(alpha)"
   ]
  },
  {
   "cell_type": "code",
   "execution_count": 9,
   "metadata": {
    "collapsed": true
   },
   "outputs": [],
   "source": [
    "u_inf = 1.0\n",
    "alpha = 0.0\n",
    "freestream = Freestream(u_inf, alpha)"
   ]
  },
  {
   "cell_type": "markdown",
   "metadata": {},
   "source": [
    "GETTING SIGMA AND GAMMA"
   ]
  },
  {
   "cell_type": "code",
   "execution_count": 10,
   "metadata": {
    "collapsed": true
   },
   "outputs": [],
   "source": [
    "def integral(x, y, panel, dxdz, dydz):\n",
    "    def integrand(s):\n",
    "        return (((x - (panel.xa - math.sin(panel.beta) * s)) * dxdz +\n",
    "                 (y - (panel.ya + math.cos(panel.beta) * s)) * dydz) /\n",
    "                ((x - (panel.xa - math.sin(panel.beta) * s))**2 +\n",
    "                 (y - (panel.ya + math.cos(panel.beta) * s))**2) )\n",
    "    return integrate.quad(integrand, 0.0, panel.length)[0]"
   ]
  },
  {
   "cell_type": "code",
   "execution_count": 11,
   "metadata": {
    "collapsed": true
   },
   "outputs": [],
   "source": [
    "def source_contribution_normal(panels, panels_fp):\n",
    "    A = numpy.empty((panels.size + panels_fp.size, panels.size + panels_fp.size), dtype=float)\n",
    "    numpy.fill_diagonal(A, 0.5)\n",
    "    for i, panel_i in enumerate(panels):\n",
    "        for j, panel_j in enumerate(panels):\n",
    "            if i != j:\n",
    "                A[i, j] = 0.5 / numpy.pi * integral(panel_i.xc, panel_i.yc, \n",
    "                                                    panel_j,\n",
    "                                                    numpy.cos(panel_i.beta),\n",
    "                                                    numpy.sin(panel_i.beta))\n",
    "    \n",
    "    for i, panel_i in enumerate(panels):\n",
    "        for j, panel_j in enumerate(panels_fp):\n",
    "            A[i, 100 + j] = 0.5 / numpy.pi * integral(panel_i.xc, panel_i.yc, \n",
    "                                                    panel_j,\n",
    "                                                    numpy.cos(panel_i.beta),\n",
    "                                                    numpy.sin(panel_i.beta))\n",
    "    \n",
    "    for i, panel_i in enumerate(panels_fp):\n",
    "        for j, panel_j in enumerate(panels):\n",
    "            A[i + 100, j] = 0.5 / numpy.pi * integral(panel_i.xc, panel_i.yc, \n",
    "                                                    panel_j,\n",
    "                                                    numpy.cos(panel_i.beta),\n",
    "                                                    numpy.sin(panel_i.beta))\n",
    "    \n",
    "    for i, panel_i in enumerate(panels_fp):\n",
    "        for j, panel_j in enumerate(panels_fp):\n",
    "            if i != j:\n",
    "                A[i + 100, j + 100] = 0.5 / numpy.pi * integral(panel_i.xc, panel_i.yc, \n",
    "                                                    panel_j,\n",
    "                                                    numpy.cos(panel_i.beta),\n",
    "                                                    numpy.sin(panel_i.beta))\n",
    "    \n",
    "    return A"
   ]
  },
  {
   "cell_type": "code",
   "execution_count": 12,
   "metadata": {
    "collapsed": true
   },
   "outputs": [],
   "source": [
    "def vortex_contribution_normal(panels, panels_fp):\n",
    "    A = numpy.empty((panels.size + panels_fp.size, panels.size + panels_fp.size), dtype=float)\n",
    "    numpy.fill_diagonal(A, 0.0)\n",
    "    for i, panel_i in enumerate(panels):\n",
    "        for j, panel_j in enumerate(panels):\n",
    "            if i != j:\n",
    "                A[i, j] = -0.5 / numpy.pi * integral(panel_i.xc, panel_i.yc, \n",
    "                                                     panel_j,\n",
    "                                                     numpy.sin(panel_i.beta),\n",
    "                                                     -numpy.cos(panel_i.beta))\n",
    "    \n",
    "    for i, panel_i in enumerate(panels):\n",
    "        for j, panel_j in enumerate(panels_fp):\n",
    "            A[i, 100 + j] = -0.5 / numpy.pi * integral(panel_i.xc, panel_i.yc, \n",
    "                                                     panel_j,\n",
    "                                                     numpy.sin(panel_i.beta),\n",
    "                                                     -numpy.cos(panel_i.beta))\n",
    "    \n",
    "    for i, panel_i in enumerate(panels_fp):\n",
    "        for j, panel_j in enumerate(panels):\n",
    "            A[i + 100, j] = -0.5 / numpy.pi * integral(panel_i.xc, panel_i.yc, \n",
    "                                                     panel_j,\n",
    "                                                     numpy.sin(panel_i.beta),\n",
    "                                                     -numpy.cos(panel_i.beta))\n",
    "    \n",
    "    for i, panel_i in enumerate(panels_fp):\n",
    "        for j, panel_j in enumerate(panels_fp):\n",
    "            if i != j:\n",
    "                A[i + 100, j + 100] = -0.5 / numpy.pi * integral(panel_i.xc, panel_i.yc, \n",
    "                                                     panel_j,\n",
    "                                                     numpy.sin(panel_i.beta),\n",
    "                                                     -numpy.cos(panel_i.beta))\n",
    "    return A"
   ]
  },
  {
   "cell_type": "code",
   "execution_count": 13,
   "metadata": {
    "collapsed": true
   },
   "outputs": [],
   "source": [
    "A_source = source_contribution_normal(panels, panels_fp)\n",
    "B_vortex = vortex_contribution_normal(panels, panels_fp)"
   ]
  },
  {
   "cell_type": "markdown",
   "metadata": {},
   "source": [
    "Accessory matrix"
   ]
  },
  {
   "cell_type": "code",
   "execution_count": 14,
   "metadata": {
    "collapsed": true
   },
   "outputs": [],
   "source": [
    "def build_b_matrix(panels, panels_fp, freestream):\n",
    "    A = numpy.empty(panels.size + panels_fp.size, dtype=float)\n",
    "    for i, panel in enumerate(panels):\n",
    "        A[i] = -freestream.u_inf * numpy.cos(freestream.alpha - panel.beta)\n",
    "    for j, panel in enumerate(panels_fp):\n",
    "        A[100 + j] = -freestream.u_inf * numpy.cos(freestream.alpha - panel.beta)\n",
    "    return A"
   ]
  },
  {
   "cell_type": "code",
   "execution_count": 15,
   "metadata": {
    "collapsed": true
   },
   "outputs": [],
   "source": [
    "b_b = build_b_matrix(panels, panels_fp, freestream)"
   ]
  },
  {
   "cell_type": "code",
   "execution_count": 16,
   "metadata": {},
   "outputs": [
    {
     "data": {
      "text/plain": [
       "(200,)"
      ]
     },
     "execution_count": 16,
     "metadata": {},
     "output_type": "execute_result"
    }
   ],
   "source": [
    "b_b.shape"
   ]
  },
  {
   "cell_type": "code",
   "execution_count": 17,
   "metadata": {
    "collapsed": true
   },
   "outputs": [],
   "source": [
    "def build_B_matrix(B_vortex):\n",
    "    A = numpy.empty((A_source.shape[0], 2), dtype=float)\n",
    "    A[:-100, 0] = numpy.sum(B_vortex[:-100, :-100], axis=1)\n",
    "    A[:-100, 1] = numpy.sum(B_vortex[:-100, 100:], axis=1)\n",
    "    A[100:, 0] = numpy.sum(B_vortex[100:, :-100], axis=1)\n",
    "    A[100:, 1] = numpy.sum(B_vortex[100:, 100:], axis=1)\n",
    "    return A"
   ]
  },
  {
   "cell_type": "code",
   "execution_count": 18,
   "metadata": {
    "collapsed": true
   },
   "outputs": [],
   "source": [
    "B_B = build_B_matrix(B_vortex)"
   ]
  },
  {
   "cell_type": "markdown",
   "metadata": {},
   "source": [
    "Building linear system"
   ]
  },
  {
   "cell_type": "code",
   "execution_count": 19,
   "metadata": {
    "collapsed": true
   },
   "outputs": [],
   "source": [
    "def kutta_condition(A_source, B_vortex):\n",
    "    b = numpy.empty((2, A_source.shape[1] + 2), dtype=float)\n",
    "    b[0, :-2] = B_vortex[0, :] + B_vortex[99, :]\n",
    "    b[1, :-2] = B_vortex[100, :] + B_vortex[-1, :]\n",
    "    b[0, -2] = - numpy.sum(A_source[0, :-100] + A_source[99, :-100])\n",
    "    b[0, -1] = - numpy.sum(A_source[0, 100:] + A_source[99, 100:])\n",
    "    b[1, -2] = - numpy.sum(A_source[100, :-100] + A_source[-1, :-100])\n",
    "    b[1, -1] = - numpy.sum(A_source[100, 100:] + A_source[-1, 100:])\n",
    "    return b"
   ]
  },
  {
   "cell_type": "code",
   "execution_count": 20,
   "metadata": {
    "collapsed": true
   },
   "outputs": [],
   "source": [
    "def build_singularity_matrix(A_source, B_vortex, B_B):\n",
    "    A = numpy.empty((A_source.shape[0] + 2, A_source.shape[1] + 2), dtype=float)\n",
    "    A[:-2, :-2] = A_source\n",
    "    A[:-2, 200:] = B_B\n",
    "    A[200:, :] = kutta_condition(A_source, B_vortex)\n",
    "    return A"
   ]
  },
  {
   "cell_type": "code",
   "execution_count": 21,
   "metadata": {
    "collapsed": true
   },
   "outputs": [],
   "source": [
    "def build_freestream_rhs(panels, panels_fp, freestream, b_b):\n",
    "    b = numpy.empty((panels.size + panels_fp.size + 2), dtype=float)\n",
    "    b[:-2] = b_b\n",
    "    b[-2] = -freestream.u_inf * (numpy.sin(freestream.alpha - panels[0].beta) +\n",
    "                                 numpy.sin(freestream.alpha - panels[-1].beta) )\n",
    "    b[-1] = -freestream.u_inf * (numpy.sin(freestream.alpha - panels_fp[0].beta) +\n",
    "                                 numpy.sin(freestream.alpha - panels_fp[-1].beta) )\n",
    "    return b"
   ]
  },
  {
   "cell_type": "code",
   "execution_count": 22,
   "metadata": {
    "collapsed": true
   },
   "outputs": [],
   "source": [
    "A = build_singularity_matrix(A_source, B_vortex, B_B)\n",
    "b = build_freestream_rhs(panels, panels_fp, freestream, b_b)"
   ]
  },
  {
   "cell_type": "code",
   "execution_count": 23,
   "metadata": {
    "collapsed": true
   },
   "outputs": [],
   "source": [
    "strengths = numpy.linalg.solve(A, b)"
   ]
  },
  {
   "cell_type": "code",
   "execution_count": 24,
   "metadata": {},
   "outputs": [
    {
     "data": {
      "text/plain": [
       "(202,)"
      ]
     },
     "execution_count": 24,
     "metadata": {},
     "output_type": "execute_result"
    }
   ],
   "source": [
    "b.shape"
   ]
  },
  {
   "cell_type": "code",
   "execution_count": 25,
   "metadata": {},
   "outputs": [
    {
     "data": {
      "text/plain": [
       "0.67278867959335875"
      ]
     },
     "execution_count": 25,
     "metadata": {},
     "output_type": "execute_result"
    }
   ],
   "source": [
    "strengths[-2]"
   ]
  },
  {
   "cell_type": "code",
   "execution_count": 26,
   "metadata": {
    "collapsed": true
   },
   "outputs": [],
   "source": [
    "for i, panel in enumerate(panels):\n",
    "    panel.sigma = strengths[i]\n",
    "for j, panel in enumerate(panels_fp):\n",
    "    panel.sigma = strengths[100 + j]\n",
    "    \n",
    "\n",
    "gamma_main = strengths[-2]\n",
    "gamma_flap = strengths[-1]"
   ]
  },
  {
   "cell_type": "markdown",
   "metadata": {},
   "source": [
    "Surface pressure coefficient"
   ]
  },
  {
   "cell_type": "code",
   "execution_count": 27,
   "metadata": {
    "collapsed": true
   },
   "outputs": [],
   "source": [
    "def build_tangential_velocity_matrix(panels, panels_fp, A_source, B_vortex):\n",
    "    A = numpy.empty((panels.size + panels_fp.size, panels.size + panels_fp.size + 2), dtype=float)\n",
    "    A[:, :-2] = B_vortex\n",
    "    A[:, -2] = -numpy.sum(A_source[:, :-100], axis=1)\n",
    "    A[:, -1] = -numpy.sum(A_source[:, 100:], axis=1)\n",
    "    return A"
   ]
  },
  {
   "cell_type": "code",
   "execution_count": 28,
   "metadata": {
    "collapsed": true
   },
   "outputs": [],
   "source": [
    "def build_freestream_tangential_velocity_rhs(panels, panels_fp, freestream):\n",
    "    b = numpy.empty(panels.size + panels_fp.size, dtype=float)\n",
    "    for i, panel in enumerate(panels):\n",
    "        b[i] = freestream.u_inf * numpy.sin(freestream.alpha - panel.beta)\n",
    "    for j, panel in enumerate(panels_fp):\n",
    "        b[100 + j] = freestream.u_inf * numpy.sin(freestream.alpha - panel.beta)\n",
    "    return b"
   ]
  },
  {
   "cell_type": "code",
   "execution_count": 29,
   "metadata": {
    "collapsed": true
   },
   "outputs": [],
   "source": [
    "A_vt = build_tangential_velocity_matrix(panels, panels_fp, A_source, B_vortex)\n",
    "b_vt = build_freestream_tangential_velocity_rhs(panels, panels_fp, freestream)"
   ]
  },
  {
   "cell_type": "code",
   "execution_count": 30,
   "metadata": {
    "collapsed": true
   },
   "outputs": [],
   "source": [
    "tangential_velocities = numpy.dot(A_vt, strengths) + b_vt\n",
    "    \n",
    "for i, panel in enumerate(panels):\n",
    "    panel.vt = tangential_velocities[i]\n",
    "for j, panel in enumerate(panels_fp):\n",
    "    panel.vt = tangential_velocities[100 + j]"
   ]
  },
  {
   "cell_type": "code",
   "execution_count": 31,
   "metadata": {
    "collapsed": true
   },
   "outputs": [],
   "source": [
    "for i, panel in enumerate(panels):\n",
    "    panel.cp = 1.0 - (tangential_velocities[i] / freestream.u_inf)**2\n",
    "for j, panel in enumerate(panels_fp):\n",
    "    panel.cp = 1.0 - (tangential_velocities[100 + j] / freestream.u_inf)**2"
   ]
  },
  {
   "cell_type": "code",
   "execution_count": 32,
   "metadata": {},
   "outputs": [
    {
     "name": "stdout",
     "output_type": "stream",
     "text": [
      "sum of singularity strengths: 0.000387\n"
     ]
    }
   ],
   "source": [
    "accuracy = sum([panel.sigma * panel.length for panel in panels])\n",
    "print('sum of singularity strengths: {:0.6f}'.format(accuracy))"
   ]
  },
  {
   "cell_type": "code",
   "execution_count": 33,
   "metadata": {},
   "outputs": [
    {
     "name": "stdout",
     "output_type": "stream",
     "text": [
      "sum of singularity strengths: -0.002136\n"
     ]
    }
   ],
   "source": [
    "accuracy = sum([panel.sigma * panel.length for panel in panels_fp])\n",
    "print('sum of singularity strengths: {:0.6f}'.format(accuracy))"
   ]
  },
  {
   "cell_type": "code",
   "execution_count": 34,
   "metadata": {},
   "outputs": [
    {
     "data": {
      "image/png": "[encoded data removed]",
      "text/plain": [
       "<matplotlib.figure.Figure at 0x7f172cc399b0>"
      ]
     },
     "metadata": {},
     "output_type": "display_data"
    }
   ],
   "source": [
    "pyplot.figure(figsize=(10, 6))\n",
    "pyplot.grid()\n",
    "pyplot.xlabel('$x$', fontsize=16)\n",
    "pyplot.ylabel('$C_p$', fontsize=16)\n",
    "pyplot.plot([panel.xc for panel in panels if panel.loc == 'upper'],\n",
    "            [panel.cp for panel in panels if panel.loc == 'upper'],\n",
    "            label='upper surface',\n",
    "            color='r', linestyle='-', linewidth=2, marker='o', markersize=6)\n",
    "pyplot.plot([panel.xc for panel in panels if panel.loc == 'lower'],\n",
    "            [panel.cp for panel in panels if panel.loc == 'lower'],\n",
    "            label= 'lower surface',\n",
    "            color='b', linestyle='-', linewidth=1, marker='o', markersize=6)\n",
    "pyplot.legend(loc='best', prop={'size':16})\n",
    "pyplot.xlim(-0.1, 1.1)\n",
    "pyplot.ylim(-7.0, 1.2)\n",
    "pyplot.title('Number of panels_MainFoil: {}'.format(panels.size), fontsize=16);"
   ]
  },
  {
   "cell_type": "code",
   "execution_count": 35,
   "metadata": {},
   "outputs": [
    {
     "data": {
      "text/plain": [
       "<matplotlib.text.Text at 0x7f172cad1978>"
      ]
     },
     "execution_count": 35,
     "metadata": {},
     "output_type": "execute_result"
    },
    {
     "data": {
      "image/png": "[encoded data removed]",
      "text/plain": [
       "<matplotlib.figure.Figure at 0x7f172cb66a90>"
      ]
     },
     "metadata": {},
     "output_type": "display_data"
    }
   ],
   "source": [
    "pyplot.figure(figsize=(10, 6))\n",
    "pyplot.grid()\n",
    "pyplot.xlabel('$x$', fontsize=16)\n",
    "pyplot.ylabel('$C_p$', fontsize=16)\n",
    "pyplot.plot([panel.xc for panel in panels_fp if panel.loc == 'upper'],\n",
    "            [panel.cp for panel in panels_fp if panel.loc == 'upper'],\n",
    "            label='upper surface',\n",
    "            color='r', linestyle='-', linewidth=2, marker='o', markersize=6)\n",
    "pyplot.plot([panel.xc for panel in panels_fp if panel.loc == 'lower'],\n",
    "            [panel.cp for panel in panels_fp if panel.loc == 'lower'],\n",
    "            label= 'lower surface',\n",
    "            color='b', linestyle='-', linewidth=1, marker='o', markersize=6)\n",
    "pyplot.legend(loc='best', prop={'size':16})\n",
    "pyplot.xlim(0.975, 1.33)\n",
    "pyplot.ylim(-12.0, 1.5)\n",
    "pyplot.title('Number of panels_FlapFoil: {}'.format(panels.size), fontsize=16)"
   ]
  },
  {
   "cell_type": "code",
   "execution_count": 36,
   "metadata": {},
   "outputs": [
    {
     "data": {
      "text/plain": [
       "-0.95570117298078339"
      ]
     },
     "execution_count": 36,
     "metadata": {},
     "output_type": "execute_result"
    }
   ],
   "source": [
    "panels[2].cp"
   ]
  },
  {
   "cell_type": "code",
   "execution_count": 37,
   "metadata": {},
   "outputs": [
    {
     "data": {
      "text/plain": [
       "-0.2799183983685587"
      ]
     },
     "execution_count": 37,
     "metadata": {},
     "output_type": "execute_result"
    }
   ],
   "source": [
    "panels_fp[9].cp"
   ]
  },
  {
   "cell_type": "code",
   "execution_count": 38,
   "metadata": {},
   "outputs": [
    {
     "name": "stdout",
     "output_type": "stream",
     "text": [
      "lift coefficient: CL = 2.767\n"
     ]
    }
   ],
   "source": [
    "c = abs(max(panel.xa for panel in panels) -\n",
    "        min(panel.xa for panel in panels))\n",
    "cl = (gamma_main * sum(panel.length for panel in panels) /\n",
    "      (0.5 * freestream.u_inf * c))\n",
    "print('lift coefficient: CL = {:0.3f}'.format(cl))"
   ]
  },
  {
   "cell_type": "code",
   "execution_count": 39,
   "metadata": {},
   "outputs": [
    {
     "name": "stdout",
     "output_type": "stream",
     "text": [
      "lift coefficient: CL2 = 2.960\n"
     ]
    }
   ],
   "source": [
    "c2 = abs(max(panel.xa for panel in panels_fp) -\n",
    "        min(panel.xa for panel in panels_fp))\n",
    "cl2 = (gamma_flap * sum(panel.length for panel in panels_fp) /\n",
    "      (0.5 * freestream.u_inf * c2))\n",
    "print('lift coefficient: CL2 = {:0.3f}'.format(cl2))"
   ]
  },
  {
   "cell_type": "code",
   "execution_count": 40,
   "metadata": {},
   "outputs": [
    {
     "name": "stdout",
     "output_type": "stream",
     "text": [
      "3.7240537583\n"
     ]
    }
   ],
   "source": [
    "L = c * cl + c2 * cl2\n",
    "print(L)"
   ]
  }
 ],
 "metadata": {
  "kernelspec": {
   "display_name": "Python 3",
   "language": "python",
   "name": "python3"
  },
  "language_info": {
   "codemirror_mode": {
    "name": "ipython",
    "version": 3
   },
   "file_extension": ".py",
   "mimetype": "text/x-python",
   "name": "python",
   "nbconvert_exporter": "python",
   "pygments_lexer": "ipython3",
   "version": "3.6.2"
  }
 },
 "nbformat": 4,
 "nbformat_minor": 2
}
