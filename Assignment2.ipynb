{
 "cells": [
  {
   "cell_type": "code",
   "execution_count": 4,
   "metadata": {
    "collapsed": true
   },
   "outputs": [],
   "source": [
    "a = 3\n",
    "b = 3\n",
    "z = a + b * 1j"
   ]
  },
  {
   "cell_type": "code",
   "execution_count": 5,
   "metadata": {},
   "outputs": [
    {
     "name": "stdout",
     "output_type": "stream",
     "text": [
      "z= \n"
     ]
    },
    {
     "data": {
      "text/plain": [
       "(None, (3+3j))"
      ]
     },
     "execution_count": 5,
     "metadata": {},
     "output_type": "execute_result"
    }
   ],
   "source": [
    "print ('z= '), z"
   ]
  },
  {
   "cell_type": "code",
   "execution_count": 6,
   "metadata": {},
   "outputs": [
    {
     "name": "stdout",
     "output_type": "stream",
     "text": [
      "The type of the variable is \n"
     ]
    },
    {
     "data": {
      "text/plain": [
       "(None, complex)"
      ]
     },
     "execution_count": 6,
     "metadata": {},
     "output_type": "execute_result"
    }
   ],
   "source": [
    "print ('The type of the variable is '), type(z)"
   ]
  },
  {
   "cell_type": "code",
   "execution_count": 8,
   "metadata": {},
   "outputs": [
    {
     "data": {
      "text/plain": [
       "(46.1322+14.692000000000004j)"
      ]
     },
     "execution_count": 8,
     "metadata": {},
     "output_type": "execute_result"
    }
   ],
   "source": [
    "(2.75 + 3.69 * 1j) * (8.55 - 6.13 * 1j)"
   ]
  },
  {
   "cell_type": "code",
   "execution_count": 12,
   "metadata": {
    "collapsed": true
   },
   "outputs": [],
   "source": [
    "import math\n",
    "import numpy\n",
    "from matplotlib import pyplot\n",
    "%matplotlib inline"
   ]
  },
  {
   "cell_type": "code",
   "execution_count": 13,
   "metadata": {
    "collapsed": true
   },
   "outputs": [],
   "source": [
    "N = 50                                \n",
    "x_start, x_end = -5.0, 5.0           \n",
    "y_start, y_end = -4.0, 4.0            \n",
    "x = numpy.linspace(x_start, x_end, N)    \n",
    "y = numpy.linspace(y_start, y_end, N)    \n",
    "X, Y = numpy.meshgrid(x, y)              "
   ]
  },
  {
   "cell_type": "code",
   "execution_count": 14,
   "metadata": {},
   "outputs": [
    {
     "data": {
      "text/plain": [
       "286.1374347901553"
      ]
     },
     "execution_count": 14,
     "metadata": {},
     "output_type": "execute_result"
    }
   ],
   "source": [
    "1.4 * math.exp(5.32)"
   ]
  },
  {
   "cell_type": "code",
   "execution_count": 15,
   "metadata": {},
   "outputs": [
    {
     "data": {
      "text/plain": [
       "(-0.4880897698448308-1.0033441577191493j)"
      ]
     },
     "execution_count": 15,
     "metadata": {},
     "output_type": "execute_result"
    }
   ],
   "source": [
    "( 7.51 - 9.15 * 1j ) / ( 4.43 + 9.64 * 1j )"
   ]
  },
  {
   "cell_type": "code",
   "execution_count": 17,
   "metadata": {
    "collapsed": true
   },
   "outputs": [],
   "source": [
    "ξ = 1.5 + 1 / 1.5"
   ]
  },
  {
   "cell_type": "code",
   "execution_count": 18,
   "metadata": {},
   "outputs": [
    {
     "name": "stdout",
     "output_type": "stream",
     "text": [
      "2.1666666666666665\n"
     ]
    }
   ],
   "source": [
    "print(ξ)"
   ]
  },
  {
   "cell_type": "code",
   "execution_count": 19,
   "metadata": {
    "collapsed": true
   },
   "outputs": [],
   "source": [
    "ξ = 1.5j + 1 / 1.5j"
   ]
  },
  {
   "cell_type": "code",
   "execution_count": 20,
   "metadata": {},
   "outputs": [
    {
     "name": "stdout",
     "output_type": "stream",
     "text": [
      "0.8333333333333334j\n"
     ]
    }
   ],
   "source": [
    "print(ξ)"
   ]
  },
  {
   "cell_type": "code",
   "execution_count": 22,
   "metadata": {
    "collapsed": true
   },
   "outputs": [],
   "source": [
    "ξ = 1.0 + 1 / 1.0"
   ]
  },
  {
   "cell_type": "code",
   "execution_count": 23,
   "metadata": {},
   "outputs": [
    {
     "name": "stdout",
     "output_type": "stream",
     "text": [
      "2.0\n"
     ]
    }
   ],
   "source": [
    "print(ξ)"
   ]
  },
  {
   "cell_type": "code",
   "execution_count": 25,
   "metadata": {},
   "outputs": [
    {
     "data": {
      "image/png": "[encoded data removed]",
      "text/plain": [
       "<matplotlib.figure.Figure at 0x7fd55dff9da0>"
      ]
     },
     "metadata": {},
     "output_type": "display_data"
    }
   ],
   "source": [
    "width = 10\n",
    "height = (y_end - y_start) / (x_end - x_start) * width\n",
    "pyplot.figure(figsize=(width, height))\n",
    "pyplot.xlabel('x', fontsize=16)\n",
    "pyplot.ylabel('y', fontsize=16)\n",
    "pyplot.xlim(x_start, x_end)\n",
    "pyplot.ylim(y_start, y_end)\n",
    "n = 200\n",
    "x = numpy.linspace(-1.2, 1.2, n)\n",
    "\n",
    "for i in range(n):\n",
    "    y = +math.sqrt(1.2 * 1.2 - x[i]  *x[i])\n",
    "    x_J = (x[i] * (x[i] * x[i] + y * y + 1)) / (x[i] * x[i] + y * y)\n",
    "    y_J = (y * (x[i] * x[i] + y * y - 1)) / (x[i] * x[i] + y * y)\n",
    "    pyplot.scatter(x_J,y_J, color='#CD2305', s=80, marker='o')\n",
    "\n",
    "for i in range(n):\n",
    "    y = -math.sqrt(1.2 * 1.2 - x[i]  *x[i])\n",
    "    x_J = (x[i] * (x[i] * x[i] + y * y + 1)) / (x[i] * x[i] + y * y)\n",
    "    y_J = (y * (x[i] * x[i] + y * y - 1)) / (x[i] * x[i] + y * y)\n",
    "    pyplot.scatter(x_J,y_J, color='#CD2305', s=80, marker='o')"
   ]
  },
  {
   "cell_type": "code",
   "execution_count": 34,
   "metadata": {},
   "outputs": [
    {
     "data": {
      "image/png": "[encoded data removed]",
      "text/plain": [
       "<matplotlib.figure.Figure at 0x7fd55e837b00>"
      ]
     },
     "metadata": {},
     "output_type": "display_data"
    }
   ],
   "source": [
    "width = 10\n",
    "height = (y_end - y_start) / (x_end - x_start) * width\n",
    "pyplot.figure(figsize=(width, height))\n",
    "pyplot.xlabel('x', fontsize=16)\n",
    "pyplot.ylabel('y', fontsize=16)\n",
    "pyplot.xlim(x_start, x_end)\n",
    "pyplot.ylim(y_start, y_end)\n",
    "n = 200\n",
    "x = numpy.linspace(-1.1, 1.0, n)\n",
    "\n",
    "for i in range(n):\n",
    "    y = +math.sqrt(1.2 * 1.2 - x[i]  *x[i])\n",
    "    x_J = (x[i] * (x[i] * x[i] + y * y + 1)) / (x[i] * x[i] + y * y)\n",
    "    y_J = (y * (x[i] * x[i] + y * y - 1)) / (x[i] * x[i] + y * y)\n",
    "    pyplot.scatter(x_J,y_J, color='#CD2305', s=80, marker='o')\n",
    "\n",
    "for i in range(n):\n",
    "    y = -math.sqrt(1.2 * 1.2 - x[i]  *x[i])\n",
    "    x_J = (x[i] * (x[i] * x[i] + y * y + 1)) / (x[i] * x[i] + y * y)\n",
    "    y_J = (y * (x[i] * x[i] + y * y - 1)) / (x[i] * x[i] + y * y)\n",
    "    pyplot.scatter(x_J,y_J, color='#CD2305', s=80, marker='o')"
   ]
  },
  {
   "cell_type": "code",
   "execution_count": 71,
   "metadata": {},
   "outputs": [
    {
     "data": {
      "image/png": "[encoded data removed]",
      "text/plain": [
       "<matplotlib.figure.Figure at 0x7fd5589eb588>"
      ]
     },
     "metadata": {},
     "output_type": "display_data"
    }
   ],
   "source": [
    "width = 10\n",
    "height = (y_end - y_start) / (x_end - x_start) * width\n",
    "pyplot.figure(figsize=(width, height))\n",
    "pyplot.xlabel('x', fontsize=16)\n",
    "pyplot.ylabel('y', fontsize=16)\n",
    "pyplot.xlim(x_start, x_end)\n",
    "pyplot.ylim(y_start, y_end)\n",
    "n = 200\n",
    "x = numpy.linspace(-0.9, 0.8, n)\n",
    "\n",
    "for i in range(n):\n",
    "    y = +math.sqrt(0.9 * 0.9 - x[i]  *x[i])\n",
    "    x_J = (x[i] * (x[i] * x[i] + y * y + 1)) / (x[i] * x[i] + y * y)\n",
    "    y_J = (y * (x[i] * x[i] + y * y - 1)) / (x[i] * x[i] + y * y)\n",
    "    pyplot.scatter(x_J,y_J, color='#CD2305', s=80, marker='o')\n",
    "\n",
    "for i in range(n):\n",
    "    y = -math.sqrt(0.9 * 0.9 - x[i]  *x[i])\n",
    "    x_J = (x[i] * (x[i] * x[i] + y * y + 1)) / (x[i] * x[i] + y * y)\n",
    "    y_J = (y * (x[i] * x[i] + y * y - 1)) / (x[i] * x[i] + y * y)\n",
    "    pyplot.scatter(x_J,y_J, color='#CD2305', s=80, marker='o')"
   ]
  },
  {
   "cell_type": "code",
   "execution_count": 2,
   "metadata": {
    "collapsed": true
   },
   "outputs": [],
   "source": [
    "import math\n",
    "import numpy\n",
    "from matplotlib import pyplot\n",
    "%matplotlib inline"
   ]
  },
  {
   "cell_type": "code",
   "execution_count": 40,
   "metadata": {},
   "outputs": [
    {
     "data": {
      "text/plain": [
       "<matplotlib.patches.Circle at 0x7fd5941cd048>"
      ]
     },
     "execution_count": 40,
     "metadata": {},
     "output_type": "execute_result"
    },
    {
     "data": {
      "image/png": "[encoded data removed]",
      "text/plain": [
       "<matplotlib.figure.Figure at 0x7fd55f11ef60>"
      ]
     },
     "metadata": {},
     "output_type": "display_data"
    }
   ],
   "source": [
    "azimuths = numpy.radians(numpy.linspace(0, 250, 100))\n",
    "zeniths = numpy.arange(0, 5, 4)\n",
    "r, theta = numpy.meshgrid(zeniths, azimuths)\n",
    "\n",
    "\n",
    "width = 10\n",
    "height = 8\n",
    "pyplot.figure(figsize=(width, height))\n",
    "pyplot.xlabel('x', fontsize=16)\n",
    "pyplot.ylabel('y', fontsize=16)\n",
    "pyplot.xlim(-4, 4)\n",
    "pyplot.ylim(-4, 4)\n",
    "pyplot.scatter(r, theta, s=5, color='red', marker='o')\n",
    "\n",
    "R = 1.0\n",
    "circle = pyplot.Circle((0.0, 0.0), radius=R, color='#CD2305', alpha=0.5)\n",
    "pyplot.gca().add_patch(circle)\n"
   ]
  },
  {
   "cell_type": "code",
   "execution_count": 38,
   "metadata": {},
   "outputs": [
    {
     "data": {
      "text/plain": [
       "<matplotlib.patches.Circle at 0x7fd55f38d128>"
      ]
     },
     "execution_count": 38,
     "metadata": {},
     "output_type": "execute_result"
    },
    {
     "data": {
      "image/png": "[encoded data removed]",
      "text/plain": [
       "<matplotlib.figure.Figure at 0x7fd55ef26e80>"
      ]
     },
     "metadata": {},
     "output_type": "display_data"
    }
   ],
   "source": [
    "import matplotlib.pyplot as plt\n",
    "import numpy as np\n",
    "azimuths = np.radians(np.linspace(0, 360, 360))\n",
    "zeniths = np.linspace(0, 2.1,20)\n",
    "r,theta=np.meshgrid(zeniths,azimuths)\n",
    "\n",
    "\n",
    "\n",
    "R = 1.0\n",
    "circle = pyplot.Circle((0.0, 0.0), radius=R, color='#CD2305', alpha=0.5)\n",
    "pyplot.gca().add_patch(circle)\n",
    "\n",
    "\n"
   ]
  },
  {
   "cell_type": "code",
   "execution_count": 10,
   "metadata": {},
   "outputs": [
    {
     "ename": "IndexError",
     "evalue": "index 1 is out of bounds for axis 0 with size 1",
     "output_type": "error",
     "traceback": [
      "\u001b[0;31m---------------------------------------------------------------------------\u001b[0m",
      "\u001b[0;31mIndexError\u001b[0m                                Traceback (most recent call last)",
      "\u001b[0;32m<ipython-input-10-8d03ce5d20c6>\u001b[0m in \u001b[0;36m<module>\u001b[0;34m()\u001b[0m\n\u001b[1;32m     10\u001b[0m     \u001b[0mzeniths\u001b[0m \u001b[0;34m=\u001b[0m \u001b[0mnumpy\u001b[0m\u001b[0;34m.\u001b[0m\u001b[0marange\u001b[0m\u001b[0;34m(\u001b[0m\u001b[0;36m0\u001b[0m\u001b[0;34m,\u001b[0m \u001b[0;36m5\u001b[0m\u001b[0;34m,\u001b[0m \u001b[0;36m100\u001b[0m\u001b[0;34m)\u001b[0m\u001b[0;34m\u001b[0m\u001b[0m\n\u001b[1;32m     11\u001b[0m     \u001b[0mr\u001b[0m\u001b[0;34m,\u001b[0m \u001b[0mtheta\u001b[0m \u001b[0;34m=\u001b[0m \u001b[0mzeniths\u001b[0m\u001b[0;34m,\u001b[0m \u001b[0mazimuths\u001b[0m\u001b[0;34m\u001b[0m\u001b[0m\n\u001b[0;32m---> 12\u001b[0;31m     \u001b[0mX\u001b[0m\u001b[0;34m[\u001b[0m\u001b[0mi\u001b[0m\u001b[0;34m]\u001b[0m \u001b[0;34m=\u001b[0m \u001b[0mr\u001b[0m\u001b[0;34m[\u001b[0m\u001b[0mi\u001b[0m\u001b[0;34m]\u001b[0m \u001b[0;34m*\u001b[0m \u001b[0mnumpy\u001b[0m\u001b[0;34m.\u001b[0m\u001b[0mcos\u001b[0m\u001b[0;34m(\u001b[0m\u001b[0mtheta\u001b[0m\u001b[0;34m[\u001b[0m\u001b[0mi\u001b[0m\u001b[0;34m]\u001b[0m\u001b[0;34m)\u001b[0m\u001b[0;34m\u001b[0m\u001b[0m\n\u001b[0m\u001b[1;32m     13\u001b[0m     \u001b[0mY\u001b[0m\u001b[0;34m[\u001b[0m\u001b[0mi\u001b[0m\u001b[0;34m]\u001b[0m \u001b[0;34m=\u001b[0m \u001b[0mr\u001b[0m\u001b[0;34m[\u001b[0m\u001b[0mi\u001b[0m\u001b[0;34m]\u001b[0m \u001b[0;34m*\u001b[0m \u001b[0mnumpy\u001b[0m\u001b[0;34m.\u001b[0m\u001b[0msin\u001b[0m\u001b[0;34m(\u001b[0m\u001b[0mtheta\u001b[0m\u001b[0;34m[\u001b[0m\u001b[0mi\u001b[0m\u001b[0;34m]\u001b[0m\u001b[0;34m)\u001b[0m\u001b[0;34m\u001b[0m\u001b[0m\n\u001b[1;32m     14\u001b[0m     \u001b[0mpyplot\u001b[0m\u001b[0;34m.\u001b[0m\u001b[0mscatter\u001b[0m\u001b[0;34m(\u001b[0m\u001b[0mX\u001b[0m\u001b[0;34m[\u001b[0m\u001b[0mi\u001b[0m\u001b[0;34m]\u001b[0m\u001b[0;34m,\u001b[0m \u001b[0mY\u001b[0m\u001b[0;34m[\u001b[0m\u001b[0mi\u001b[0m\u001b[0;34m]\u001b[0m\u001b[0;34m,\u001b[0m \u001b[0ms\u001b[0m\u001b[0;34m=\u001b[0m\u001b[0;36m5\u001b[0m\u001b[0;34m,\u001b[0m \u001b[0mcolor\u001b[0m\u001b[0;34m=\u001b[0m\u001b[0;34m'red'\u001b[0m\u001b[0;34m,\u001b[0m \u001b[0mmarker\u001b[0m\u001b[0;34m=\u001b[0m\u001b[0;34m'o'\u001b[0m\u001b[0;34m)\u001b[0m\u001b[0;34m\u001b[0m\u001b[0m\n",
      "\u001b[0;31mIndexError\u001b[0m: index 1 is out of bounds for axis 0 with size 1"
     ]
    },
    {
     "data": {
      "image/png": "[encoded data removed]",
      "text/plain": [
       "<matplotlib.figure.Figure at 0x7f698a63a400>"
      ]
     },
     "metadata": {},
     "output_type": "display_data"
    }
   ],
   "source": [
    "import math\n",
    "import numpy\n",
    "from matplotlib import pyplot\n",
    "%matplotlib inline\n",
    "\n",
    "n = 145\n",
    "azimuths = numpy.radians(numpy.linspace(0, 2 * math.pi, n))\n",
    "\n",
    "for i in range(n):\n",
    "    zeniths = numpy.arange(0, 5, 100)\n",
    "    r, theta = zeniths, azimuths\n",
    "    X[i] = r[i] * numpy.cos(theta[i])\n",
    "    Y[i] = r[i] * numpy.sin(theta[i])\n",
    "    pyplot.scatter(X[i], Y[i], s=5, color='red', marker='o')"
   ]
  },
  {
   "cell_type": "code",
   "execution_count": null,
   "metadata": {
    "collapsed": true
   },
   "outputs": [],
   "source": []
  }
 ],
 "metadata": {
  "kernelspec": {
   "display_name": "Python 3",
   "language": "python",
   "name": "python3"
  },
  "language_info": {
   "codemirror_mode": {
    "name": "ipython",
    "version": 3
   },
   "file_extension": ".py",
   "mimetype": "text/x-python",
   "name": "python",
   "nbconvert_exporter": "python",
   "pygments_lexer": "ipython3",
   "version": "3.6.2"
  }
 },
 "nbformat": 4,
 "nbformat_minor": 2
}
